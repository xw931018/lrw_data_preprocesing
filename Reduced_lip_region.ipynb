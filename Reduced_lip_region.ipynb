{
 "cells": [
  {
   "cell_type": "markdown",
   "metadata": {},
   "source": [
    "## Installing requirements"
   ]
  },
  {
   "cell_type": "code",
   "execution_count": 1,
   "metadata": {},
   "outputs": [],
   "source": [
    "! export PATH='$PATH:/home/monga/.local/lib/python3.8/site-packages'"
   ]
  },
  {
   "cell_type": "code",
   "execution_count": 2,
   "metadata": {},
   "outputs": [],
   "source": [
    "#import util\n",
    "from psfdataset import PSFDataset, transforms\n",
    "import torch\n",
    "from sklearn.preprocessing import LabelEncoder\n",
    "from sklearn.metrics import confusion_matrix, accuracy_score, ConfusionMatrixDisplay\n",
    "from tqdm.notebook import tqdm, trange"
   ]
  },
  {
   "cell_type": "code",
   "execution_count": 60,
   "metadata": {
    "scrolled": true
   },
   "outputs": [
    {
     "name": "stdout",
     "output_type": "stream",
     "text": [
      "1 THOUGHT\n",
      "2 INVOLVED\n",
      "3 DIFFERENT\n",
      "4 MAYBE\n",
      "5 REPORT\n",
      "6 VICTIMS\n",
      "7 GETTING\n",
      "8 UNION\n",
      "9 MEDIA\n",
      "10 VIOLENCE\n",
      "-------------------------------\n",
      "dict_keys(['THOUGHT', 'INVOLVED', 'DIFFERENT', 'MAYBE', 'REPORT', 'VICTIMS', 'GETTING', 'UNION', 'MEDIA', 'VIOLENCE'])\n",
      "dict_keys(['val', 'test', 'train'])\n",
      "1000\n",
      "(29, 4, 2)\n",
      "-------------------------------\n"
     ]
    }
   ],
   "source": [
    "\"\"\"\n",
    "script to compute the number\n",
    "of jsons created for each\n",
    "word. The output is a .csv\n",
    "file where for each word the\n",
    "number of jsons corresponding\n",
    "to train, val, and test subsets\n",
    "is mentioned\n",
    "\"\"\"\n",
    "\n",
    "import os\n",
    "import json\n",
    "import re\n",
    "import numpy as np\n",
    "import matplotlib.pyplot as plt\n",
    "import pandas as pd\n",
    "\n",
    "\n",
    "def get_rect_and_landmarks(rect, landmarks):\n",
    "    # converts and returns the face rectangle and landmarks\n",
    "    # in formats appropriate for the display function\n",
    "\n",
    "    x = rect[\"left\"]\n",
    "    y = rect[\"top\"]\n",
    "    w = rect[\"width\"]\n",
    "    h = rect[\"height\"]\n",
    "\n",
    "    if landmarks is not None:\n",
    "        temp_agg = list()\n",
    "        for i in range(len(landmarks)):\n",
    "            temp = list()\n",
    "            temp.append(landmarks[\"point-\" + str(i+1)][\"x\"])\n",
    "            temp.append(landmarks[\"point-\" + str(i+1)][\"y\"])\n",
    "            temp_agg.append(temp)\n",
    "        return (x, y, w, h), np.asarray(temp_agg)\n",
    "    else:\n",
    "        return (x, y, w, h), np.empty((0, 0))\n",
    "\n",
    "\n",
    "def choose_the_largest_face(faces_list):\n",
    "    if len(faces_list) == 1: \n",
    "        return faces_list[0]\n",
    "    \n",
    "    area_max = 0\n",
    "    area_max_id = 0\n",
    "    for i,face in enumerate(faces_list):\n",
    "        (face_rect,landmarks) = face\n",
    "        area = face_rect[2] * face_rect[3] # area = width * height\n",
    "        if area > area_max:\n",
    "            area_max = area\n",
    "            area_max_id = i\n",
    "    return faces_list[area_max_id]\n",
    "\n",
    "\n",
    "def load_one_json_file(filename, isDebug=False):\n",
    "    # load the metadata and facial landmarks\n",
    "\n",
    "    face_rect_list = []\n",
    "    landmarks_list = []\n",
    "    with open(filename) as f:\n",
    "        video_data_dict = json.load(f)\n",
    "        # extract duration\n",
    "        if video_data_dict[\"metaData\"] is not None:\n",
    "            duration = float(re.findall(r\"[-+]?\\d*\\.\\d+|\\d+\", video_data_dict[\"metaData\"][\"Duration\"])[0])\n",
    "            if isDebug:\n",
    "                print(\"duration metadata: %.3f\" % duration)\n",
    "\n",
    "        # extract frame information aggregated for all frames\n",
    "        agg_frame_data = video_data_dict[\"aggFrameInfo\"]  # list of frame-wise visual data\n",
    "\n",
    "        for frame_data in agg_frame_data:\n",
    "            n_faces = frame_data[\"numFaces\"]\n",
    "            if isDebug:\n",
    "                print(\"frame index: %d number of faces: %d\" % (frame_data[\"frameIndex\"], n_faces))\n",
    "            \n",
    "            if frame_data[\"facialAttributes\"] is not None:# if so, the n_faces should > 0 \n",
    "                faces_list = []\n",
    "                for attr in frame_data[\"facialAttributes\"]:\n",
    "                    face_idx = attr[\"faceIndex\"]\n",
    "                    face_rect, landmarks = get_rect_and_landmarks(attr[\"faceRectangle\"],\n",
    "                                                                  attr[\"faceLandmarks\"])\n",
    "                    faces_list.append((face_rect, landmarks))\n",
    "\n",
    "                face_rect_chosen, landmarks_chosen = choose_the_largest_face(faces_list)    \n",
    "                face_rect_list.append(face_rect_chosen)\n",
    "                landmarks_list.append(landmarks_chosen)\n",
    "    \n",
    "    face_rect_array = np.array(face_rect_list)\n",
    "    landmarks_array = np.array(landmarks_list)\n",
    "    return face_rect_array, landmarks_array\n",
    "\n",
    "\n",
    "\n",
    "\n",
    "\n",
    "\n",
    "\n",
    "\n",
    "i_data = \"/cache/lrw/lipread_landmarks/dlib68_2d_sparse_json/lipread_mp4\"\n",
    "# or i_data = \"/cache/lrw/lipread_landmarks/dlib68_2d_sparse_json_defects_not_one_face/lipread_mp4\"\n",
    "selected_n_classes = 10 # the max is 500\n",
    "\n",
    "cnt = 0\n",
    "data = dict()\n",
    "\n",
    "for word in os.listdir(i_data):\n",
    "    if not word.startswith('.'):\n",
    "        cnt += 1\n",
    "        if cnt > selected_n_classes:\n",
    "            break\n",
    "        print(cnt,word)\n",
    "        splits = dict() # 'train' 'val' and 'test' sets\n",
    "        # print(\"analysing data for the word: '%s'\" % word)\n",
    "        p = os.path.join(i_data, word)\n",
    "        \n",
    "        for sub_dir in os.listdir(p):\n",
    "            if not sub_dir.startswith('.'):\n",
    "                # print(sub_dir)\n",
    "                p_sub = os.path.join(p, sub_dir)\n",
    "                for _, _, files in os.walk(p_sub):\n",
    "                    samples_list = []\n",
    "                    for filename in files:\n",
    "                        if filename.endswith('.json'):\n",
    "                            face_rect_array, landmarks_array = load_one_json_file(os.path.join(p_sub, filename))\n",
    "                            lip_region = []\n",
    "                            for j in range(len(landmarks_array)):\n",
    "                                lip_region.append(np.stack((landmarks_array[j][48],landmarks_array[j][51],landmarks_array[j][57],landmarks_array[j][54])))\n",
    "                            samples_list.append(np.array(lip_region))\n",
    "                    splits[sub_dir] = samples_list\n",
    "        data[word] = splits\n",
    "\n",
    "print('-------------------------------')\n",
    "print(data.keys()) # names of all the 'selected_n_classes' classes  \n",
    "print(data['THOUGHT'].keys()) # print the names of the 3 splits for the first class 'THOUGHT'\n",
    "print(len(data['THOUGHT']['train'])) # print the number of train samples of the first class\n",
    "print(data['THOUGHT']['train'][0].shape) # print the shape (29 frames, 68 landmarks, 2 coordinates) of the first training sample of the first class    \n",
    "print('-------------------------------')                     \n",
    "        \n"
   ]
  },
  {
   "cell_type": "markdown",
   "metadata": {},
   "source": [
    "# Step 0: Defining a LabelEncoder to transform text class to numberic class"
   ]
  },
  {
   "cell_type": "code",
   "execution_count": 61,
   "metadata": {},
   "outputs": [
    {
     "data": {
      "text/plain": [
       "LabelEncoder()"
      ]
     },
     "execution_count": 61,
     "metadata": {},
     "output_type": "execute_result"
    }
   ],
   "source": [
    "encoder= LabelEncoder()\n",
    "categories = list(data.keys())\n",
    "encoder.fit(categories)"
   ]
  },
  {
   "cell_type": "markdown",
   "metadata": {},
   "source": [
    "# Step 1: Defining my custom Data loader from above 'data'. We only need to properly define iterators for train/test/validation sets"
   ]
  },
  {
   "cell_type": "code",
   "execution_count": 62,
   "metadata": {},
   "outputs": [],
   "source": [
    "def generate_iterator(data, key = 'train', refLength = 29):\n",
    "    iter_list = []\n",
    "    x = 0\n",
    "    for word, keypointsOneWord in data.items():\n",
    "        \n",
    "\n",
    "        keypointsList = keypointsOneWord[key]\n",
    "        num_of_samples = len(keypointsList)\n",
    "        \n",
    "        ## There are some sample whose length is smaller than 29. We need to either delete it, \n",
    "        ## or extend it to 29 length for now. But this can be resolved if signature transform is introduced\n",
    "        for i in range(len(keypointsList)):\n",
    "             singleSample = keypointsList[i]\n",
    "             if len(singleSample) < refLength:\n",
    "                 singleSample = np.array(list(singleSample) + [singleSample[-1]] * (refLength - len(singleSample)))\n",
    "                 keypointsList[i] = singleSample\n",
    "        iter_list = iter_list + list(zip(keypointsList, np.array(list(encoder.transform([word])) * num_of_samples)))\n",
    "    return iter(iter_list)"
   ]
  },
  {
   "cell_type": "code",
   "execution_count": 63,
   "metadata": {},
   "outputs": [],
   "source": [
    "iter_train = generate_iterator(data, key = 'train')\n",
    "iter_test = generate_iterator(data, key = 'test')\n",
    "iter_val = generate_iterator(data, key = 'val')"
   ]
  },
  {
   "cell_type": "code",
   "execution_count": 64,
   "metadata": {},
   "outputs": [],
   "source": [
    "iiter_test = [x for x in iter_test]\n",
    "iiter_train = [x for x in iter_train]"
   ]
  },
  {
   "cell_type": "markdown",
   "metadata": {},
   "source": [
    "# Step 2: Let's adapt the PSFDataset from human body movement"
   ]
  },
  {
   "cell_type": "code",
   "execution_count": 65,
   "metadata": {},
   "outputs": [],
   "source": [
    "tr = transforms.Compose([\n",
    "    #transforms.spatial.Crop(),\n",
    "#     transforms.spatial.Normalize(),\n",
    "#     transforms.SpatioTemporalPath(),\n",
    "#     transforms.temporal.MultiDelayedTransformation(2),\n",
    "    transforms.temporal.DyadicPathSignatures(dyadic_levels=2,\n",
    "                                             signature_level=4)\n",
    "])"
   ]
  },
  {
   "cell_type": "markdown",
   "metadata": {},
   "source": [
    "As first steps, no transforms are introduced yet."
   ]
  },
  {
   "cell_type": "code",
   "execution_count": 72,
   "metadata": {},
   "outputs": [],
   "source": [
    "def average_rot(video_array):\n",
    "    \n",
    "    n = len(video_array)\n",
    "    '''This function calculates the angle of rotation for each video in each frame. \n",
    "    The result can be used to build histograms as in the following cell. '''\n",
    "    #loop over all of the video\n",
    "    theta = []\n",
    "    for i in range(n):\n",
    "        \n",
    "        a = video_array[i].copy() #i-th video\n",
    "        \n",
    "        #loop over all of the frames\n",
    "        \n",
    "        for j in range(a.shape[0]):\n",
    "                                  \n",
    "            a[j,:,0] = a[j,:,0] - a[j,2,0]\n",
    "            a[j,:,1] = a[j,:,1] - a[j,2,1]\n",
    "            \n",
    "            cos = a[j,1,1]/np.sqrt(a[j,1,0]**2 + a[j,1,1]**2) #cos(theta)\n",
    "            sin = a[j,1,0]/np.sqrt(a[j,1,0]**2 + a[j,1,1]**2) #sin(theta)\n",
    "            \n",
    "            theta.append(np.arcsin(sin))\n",
    "    \n",
    "    return theta"
   ]
  },
  {
   "cell_type": "code",
   "execution_count": 10,
   "metadata": {},
   "outputs": [
    {
     "data": {
      "text/plain": [
       "(array([2.9000e+01, 1.7200e+02, 3.0350e+03, 1.6084e+04, 9.0040e+03,\n",
       "        6.5800e+02, 1.7000e+01, 0.0000e+00, 0.0000e+00, 1.0000e+00]),\n",
       " array([-0.98279372, -0.72743472, -0.47207571, -0.21671671,  0.0386423 ,\n",
       "         0.2940013 ,  0.54936031,  0.80471931,  1.06007832,  1.31543732,\n",
       "         1.57079633]),\n",
       " <a list of 10 Patch objects>)"
      ]
     },
     "execution_count": 10,
     "metadata": {},
     "output_type": "execute_result"
    },
    {
     "data": {
      "image/png": "[encoded data removed]",
      "text/plain": [
       "<Figure size 432x288 with 1 Axes>"
      ]
     },
     "metadata": {
      "needs_background": "light"
     },
     "output_type": "display_data"
    }
   ],
   "source": [
    "plt.hist(average_rot(data['THOUGHT']['train']))"
   ]
  },
  {
   "cell_type": "code",
   "execution_count": 71,
   "metadata": {},
   "outputs": [],
   "source": [
    "def rotate(video_array):\n",
    "    \n",
    "    n = len(video_array)\n",
    "    \n",
    "    #loop over all of the video\n",
    "    \n",
    "    for i in range(n):\n",
    "        \n",
    "        a = video_array[i].copy() #i-th video\n",
    "        \n",
    "        #loop over all of the frames\n",
    "        \n",
    "        for j in range(a.shape[0]):\n",
    "            \n",
    "            \"\"\"\n",
    "            From now on we will work with the j-th frame of the i-th video a[j,:,:].\n",
    "            \n",
    "            Let us recall that the 30-th landmark is the lower extreme of the nose while \n",
    "            the 27-th landmark is the upper extreme of the nose.\n",
    "            \n",
    "            The main idea of this rotation function is to firstly translate all of the landmarks\n",
    "            in the reference system with origin in a[j,30,:]. Afterwards, we look at a[j,27,:]\n",
    "            as a vector in R^2 in this new system and we apply a rotation to all of the\n",
    "            landmarks so that the first coordinate of a[j,27,:] becomes 0.\n",
    "            \n",
    "            This rotation can be achieved by defining an R^2 rotation matrix of angle theta (which takes the form \n",
    "            [[cos(theta), -sin(theta)], [sin(theta), cos(theta)]]) where theta is the angle between a[j,27,:]\n",
    "            and the y axis.\n",
    "            \"\"\"\n",
    "                      \n",
    "            a[j,:,0] = a[j,:,0] - a[j,2,0]\n",
    "            a[j,:,1] = a[j,:,1] - a[j,2,1]\n",
    "            \n",
    "            cos = a[j,1,1]/np.sqrt(a[j,1,0]**2 + a[j,1,1]**2) #cos(theta)\n",
    "            sin = a[j,1,0]/np.sqrt(a[j,1,0]**2 + a[j,1,1]**2)\n",
    "            \n",
    "            \n",
    "            \n",
    "            for l in range(a.shape[1]):\n",
    "                \n",
    "                rot = np.array([[cos,-sin],[sin,cos]])\n",
    "                \n",
    "                a[j,l,:] = rot@a[j,l,:]\n",
    "        \n",
    "        \n",
    "    return video_array"
   ]
  },
  {
   "cell_type": "code",
   "execution_count": 17,
   "metadata": {},
   "outputs": [
    {
     "data": {
      "text/plain": [
       "<module 'util_lip_data' from '/scratch/cdt_miniproject_2021/xiongw/lrw_data_preprocessing/util_lip_data.py'>"
      ]
     },
     "execution_count": 17,
     "metadata": {},
     "output_type": "execute_result"
    }
   ],
   "source": [
    "from importlib import reload\n",
    "reload(util_lip)"
   ]
  },
  {
   "cell_type": "code",
   "execution_count": 58,
   "metadata": {},
   "outputs": [],
   "source": [
    "face_rect_array, landmarks_array = load_one_json_file(os.path.join(p_sub, filename))"
   ]
  },
  {
   "cell_type": "code",
   "execution_count": 44,
   "metadata": {},
   "outputs": [
    {
     "data": {
      "text/html": [
       "<div align=middle><video height='240'src='data:video/mp4;base64,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' controls>Sorry, seems like your browser doesn't support HTML5 audio/video</video></div>"
      ],
      "text/plain": [
       "<moviepy.video.io.html_tools.HTML2 object>"
      ]
     },
     "execution_count": 44,
     "metadata": {},
     "output_type": "execute_result"
    }
   ],
   "source": [
    "import util_lip_data as util_lip\n",
    "\n",
    "from random import sample\n",
    "\n",
    "key = 'DIFFERENT'\n",
    "data_type = 'train'\n",
    "\n",
    "sampled_clips = sample(data[key][data_type], 4)\n",
    "\n",
    "util_lip.display_animation_multiple_faces(sampled_clips, word = key, transform_keypoints = True)"
   ]
  },
  {
   "cell_type": "code",
   "execution_count": 30,
   "metadata": {},
   "outputs": [],
   "source": [
    "def flip_image(video_array):\n",
    "    '''This functions flips the landmarks about an axis.'''\n",
    "    a = video_array #i-th video\n",
    "        \n",
    "    b = np.copy(a)\n",
    "\n",
    "    for j in range(a.shape[0]):\n",
    "\n",
    "        for l in range(a.shape[1]):\n",
    "\n",
    "            b[j,l,0] = -a[j,l,0]\n",
    "\n",
    "    return b"
   ]
  },
  {
   "cell_type": "code",
   "execution_count": 31,
   "metadata": {},
   "outputs": [],
   "source": [
    "\"\"\"\n",
    "Utility functions for landmark-based human action recognition using path signatures\n",
    "\"\"\"\n",
    "\n",
    "import requests\n",
    "\n",
    "import cv2\n",
    "from moviepy.editor import VideoFileClip, clips_array\n",
    "import numpy as np\n",
    "from tqdm.notebook import tqdm\n",
    "\n",
    "def download(source_url, target_filename, chunk_size=1024):\n",
    "    \"\"\"\n",
    "    Download a file via HTTP.\n",
    "\n",
    "    Parameters\n",
    "    ----------\n",
    "    source_url: str\n",
    "        URL of the file to download\n",
    "    target_filename: str\n",
    "        Target filename\n",
    "    chunk_size: int\n",
    "        Chunk size\n",
    "    \"\"\"\n",
    "    response = requests.get(source_url, stream=True)\n",
    "    file_size = int(response.headers['Content-Length'])\n",
    "\n",
    "    with open(target_filename, 'wb') as handle:\n",
    "        for data in tqdm(response.iter_content(chunk_size=chunk_size),\n",
    "                         total=int(file_size / chunk_size), unit='KB',\n",
    "                         desc='Downloading dataset:'):\n",
    "            handle.write(data)\n",
    "\n",
    "class SkeletonFace():\n",
    "    \"\"\"\n",
    "    Skeleton representation for visualisation and animation consisting of dots\n",
    "    representing landmarks and lines representing connections.\n",
    "    \"\"\"\n",
    "\n",
    "    # When transforming key points, use a fraction of the image size as a minimum of empty,\n",
    "    # black region around the skeleton\n",
    "    IMG_BORDER_FRAC = 0.1\n",
    "\n",
    "    def __init__(self,\n",
    "                 target_width,\n",
    "                 target_height,\n",
    "                 radius=10,\n",
    "                 confidence_coord=None,\n",
    "                 transform_keypoints=False):\n",
    "        \"\"\"\n",
    "        Parameters\n",
    "        ----------\n",
    "        target_width: int\n",
    "            Image width for visualisation\n",
    "        target_height: int\n",
    "            Image height for visualisation\n",
    "        radius: int\n",
    "            Landmark radius\n",
    "        confidence_coord: int\n",
    "            Index of confidence estimates\n",
    "        draw_connections: bool\n",
    "            Whether to draw connections between the key points\n",
    "         transform_keypoints: bool\n",
    "            Whether to transform key points\n",
    "        \"\"\"\n",
    "        self.landmarks = [(226, 0, 255)] * 17 + [(155, 0, 255)] * 5 + [(198, 0, 255)] * 5 + [(70, 0, 255)] * 4 + \\\n",
    "                         [(141, 255, 0)] * 5 + [(99, 255, 0)] * 6 + [(127, 0, 255)] * 6 + [(255, 42, 0)] * 12 + \\\n",
    "                         [(255, 113, 0)] * 8\n",
    "        \n",
    "        self.radius = radius\n",
    "        self.confidence_coord = confidence_coord\n",
    "        self.target_width = target_width\n",
    "        self.target_height = target_height\n",
    "        self.transform_keypoints = transform_keypoints\n",
    "\n",
    "    def draw(self, keypoints):\n",
    "\n",
    "        \"\"\"\n",
    "        Plot a static keypoint image.\n",
    "\n",
    "        Parameters\n",
    "        ----------\n",
    "        keypoints: numpy array\n",
    "            Keypoints to be drawn\n",
    "        \"\"\"\n",
    "        img = np.zeros((self.target_height, self.target_width, 3), dtype=np.uint8)\n",
    "\n",
    "        keypoints = keypoints[:, 0:2].copy()\n",
    "        if self.transform_keypoints:\n",
    "            keypoints = self._transform_keypoints(keypoints)\n",
    "\n",
    "        keypoints = np.around(keypoints).astype(np.int32)\n",
    "\n",
    "        self._draw_landmarks(keypoints, img)\n",
    "\n",
    "        return img\n",
    "\n",
    "    def _draw_landmarks(self, keypoints, img):\n",
    "        for i, colour in enumerate(self.landmarks):\n",
    "            # Skip points with confidence 0 (usually means not detected)\n",
    "            if self.confidence_coord is not None and keypoints[i, self.confidence_coord] == 0:\n",
    "                continue\n",
    "            point = tuple(keypoints[i])\n",
    "            if point[0] != 0 or point[1] != 0:\n",
    "                cv2.circle(img, point[0:2], self.radius, colour, -1)\n",
    "\n",
    "    def _transform_keypoints(self, keypoints):\n",
    "        keypoints -= np.amin(keypoints, axis=0)\n",
    "        keypoint_scale = np.amax(keypoints, axis=0)\n",
    "        keypoints *= np.array((self.target_width, self.target_height)) * (\n",
    "            1 - 2 * SkeletonFace.IMG_BORDER_FRAC) / keypoint_scale\n",
    "        keypoints += np.array((self.target_width, self.target_height)) * SkeletonFace.IMG_BORDER_FRAC\n",
    "\n",
    "        return keypoints\n",
    "\n",
    "    def animate(self, keypoints, filename=None, fps=25, codec='XVID'):\n",
    "        \"\"\"\n",
    "        Convert key points to a animation and output to a video file.\n",
    "\n",
    "        Parameters\n",
    "        ----------\n",
    "        keypoints: numpy array\n",
    "            Array of keypoints in the form [frame,landmark,coords]\n",
    "        filename: string, optional (default is None)\n",
    "            If given the video is saved to the specified file\n",
    "        fps: float\n",
    "            Number of frames per second\n",
    "        codec: str\n",
    "            Video codec represented in fourcc format\n",
    "        \"\"\"\n",
    "        if filename is not None:\n",
    "            fourcc = cv2.VideoWriter_fourcc(*codec)\n",
    "            vid_file = cv2.VideoWriter(filename, fourcc, fps,\n",
    "                                       (self.target_width, self.target_height))\n",
    "\n",
    "        vid = np.zeros((keypoints.shape[0], self.target_height, self.target_width, 3),\n",
    "                       dtype=np.uint8)\n",
    "\n",
    "        for i in range(vid.shape[0]):\n",
    "            vid[i] = self.draw(keypoints[i])\n",
    "            if filename is not None:\n",
    "                frame = cv2.cvtColor(vid[i], cv2.COLOR_RGB2BGR)\n",
    "                vid_file.write(frame)\n",
    "        if filename is not None:\n",
    "            vid_file.release()\n",
    "\n",
    "        return vid\n",
    "\n",
    "def generate_one_clip(keypoints, clip_height=768, display_height=240,\n",
    "                  temp_file='__temp__.avi', word = '', transform_keypoints = False):\n",
    "    \"\"\"\n",
    "    Display a side-by-side animation comprising the skeleton and (optionally) the source\n",
    "    video.\n",
    "\n",
    "    Parameters\n",
    "    ----------\n",
    "    keypoints : numpy array\n",
    "        Array of keypoints in the form [frame,landmark,coords]\n",
    "    clip_height : int\n",
    "        Desired clip height (applies to both source video and skeleton, the former is upscaled)\n",
    "    display_height : int\n",
    "        Desired display height\n",
    "    temp_file : int\n",
    "        Temporary file for transcoding\n",
    "    include_source_video: bool\n",
    "        Whether to include the source video\n",
    "    word: str,\n",
    "        The word that the person says\n",
    "    \"\"\"\n",
    "    keypoints = np.copy(keypoints) \n",
    "    rescaling_factor = clip_height/display_height\n",
    "    keypoints = keypoints * rescaling_factor\n",
    "\n",
    "    #duration = 1\n",
    "    skeleton = SkeletonFace(target_width=clip_height, target_height=clip_height, transform_keypoints = transform_keypoints)\n",
    "    skeleton.animate(keypoints, temp_file, )#fps=len(keypoints)/duration)\n",
    "    \n",
    "    clip_skeleton = VideoFileClip(temp_file)\n",
    "    \n",
    "    return clip_skeleton\n",
    "\n",
    "def display_animation_multiple_faces(keypoints_array, clip_height=768, display_height=240,\n",
    "                      temp_file='__temp__.avi', word = '', transform_keypoints = False):\n",
    "    clip_list = []\n",
    "    for i, keypoints in enumerate(keypoints_array):\n",
    "        clip = generate_one_clip(keypoints, clip_height = clip_height, display_height = display_height,\n",
    "                                 temp_file = temp_file.replace('__.', '__{}.'.format(i)), word = word,\n",
    "                                 transform_keypoints = transform_keypoints)\n",
    "        clip_list.append(clip)\n",
    "    clip_final = clips_array([clip_list])\n",
    "    return clip_final.ipython_display(height=display_height, rd_kwargs=dict(logger=None))   \n",
    "\n",
    "def display_animation_face(keypoints, clip_height=768, display_height=240,\n",
    "                      temp_file='__temp__.avi', word = '', transform_keypoints = False):\n",
    "    \"\"\"\n",
    "    Display a side-by-side animation comprising the skeleton and (optionally) the source\n",
    "    video.\n",
    "\n",
    "    Parameters\n",
    "    ----------\n",
    "    keypoints : numpy array\n",
    "        Array of keypoints in the form [frame,landmark,coords]\n",
    "    clip_height : int\n",
    "        Desired clip height (applies to both source video and skeleton, the former is upscaled)\n",
    "    display_height : int\n",
    "        Desired display height\n",
    "    temp_file : int\n",
    "        Temporary file for transcoding\n",
    "    include_source_video: bool\n",
    "        Whether to include the source video\n",
    "    word: str,\n",
    "        The word that the person says\n",
    "    \"\"\"\n",
    "\n",
    "    if len(word) > 0:\n",
    "        print(word)\n",
    "    clip = generate_one_clip(keypoints, clip_height = clip_height, display_height = display_height,\n",
    "                             temp_file = temp_file, word = word, \n",
    "                             transform_keypoints = transform_keypoints)\n",
    "\n",
    "    return clip.ipython_display(height=display_height, rd_kwargs=dict(logger=None))\n"
   ]
  },
  {
   "cell_type": "code",
   "execution_count": 32,
   "metadata": {},
   "outputs": [],
   "source": [
    "# Training set augmentation \n",
    "\n",
    "def flip_train_augmentation(video_data): \n",
    "    '''The function returns a dictionary equal to the raw data, but the training set \n",
    "    for each word in the dictionary is augmented with its flipped version.'''\n",
    "    modified_data = video_data.copy()\n",
    "    for i in video_data:\n",
    "        augmented_list = []\n",
    "        for j in range(len(video_data[i]['train'])):\n",
    "            augmented_list.append(flip_image(video_data[i]['train'][j]))\n",
    "        modified_data[i]['train'] =  modified_data[i]['train'] + augmented_list\n",
    "    return modified_data\n",
    "    \n",
    "    \n",
    "   \n"
   ]
  },
  {
   "cell_type": "code",
   "execution_count": 33,
   "metadata": {
    "scrolled": false
   },
   "outputs": [],
   "source": [
    "from importlib import reload"
   ]
  },
  {
   "cell_type": "code",
   "execution_count": 74,
   "metadata": {},
   "outputs": [],
   "source": [
    "def normalize_based_on_first_frame(video_array):\n",
    "    '''For an array of videos we normalize all frames based on the first frame for each video.'''\n",
    "    video_array = video_array.copy()\n",
    "    for i in range(len(video_array)):\n",
    "        maximum = np.max(video_array[i][0])\n",
    "        minimum = np.min(video_array[i][0])\n",
    "        video_array[i] = (video_array[i]-minimum)/(maximum-minimum)\n",
    "    return video_array"
   ]
  },
  {
   "cell_type": "raw",
   "metadata": {},
   "source": [
    "util_lip.display_animation_face(landmarks_array, transform_keypoints = True)"
   ]
  },
  {
   "cell_type": "code",
   "execution_count": 68,
   "metadata": {},
   "outputs": [
    {
     "data": {
      "text/html": [
       "<div align=middle><video height='240'src='data:video/mp4;base64,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' controls>Sorry, seems like your browser doesn't support HTML5 audio/video</video></div>"
      ],
      "text/plain": [
       "<moviepy.video.io.html_tools.HTML2 object>"
      ]
     },
     "execution_count": 68,
     "metadata": {},
     "output_type": "execute_result"
    }
   ],
   "source": [
    "util_lip.display_animation_multiple_faces([landmarks_array,\n",
    "                                           rotate([landmarks_array])[0]], transform_keypoints = False)"
   ]
  },
  {
   "cell_type": "code",
   "execution_count": 36,
   "metadata": {},
   "outputs": [],
   "source": [
    "# We create new dictionaries identical to 'data' that contain the normalized landmarks without aumenting \n",
    "#the training set\n",
    "\n",
    "    \n",
    "d_normalize = {} # normalized data set\n",
    "for i in data: \n",
    "    d_normalize[i] = dict((k,normalize_based_on_first_frame(v)) for k, v in data[i].items())\n",
    "    \n",
    "d_rotate = {}    # rotated data set \n",
    "for i in data: \n",
    "    d_rotate[i] = dict((k,rotate(v)) for k, v in data[i].items())\n",
    "        \n",
    "    \n",
    "d_normalize_rotate= {} # normalized and rotated data set\n",
    "for i in d_normalize:\n",
    "    d_normalize_rotate[i] = dict((k,rotate(v)) for k, v in d_normalize[i].items())"
   ]
  },
  {
   "cell_type": "code",
   "execution_count": 37,
   "metadata": {},
   "outputs": [],
   "source": [
    "# We create a new dictionary identical to 'data' that contains the normalized landmarks augmenting \n",
    "#the training set\n",
    "\n",
    "aug_data = flip_train_augmentation(data)\n",
    "\n",
    "d_normalize_a = {} #normalized data set\n",
    "for i in data: \n",
    "    d_normalize_a[i] = dict((k,normalize_based_on_first_frame(v)) for k, v in aug_data[i].items())\n",
    "    \n",
    "d_rotate_a = {}    #rotated data set \n",
    "for i in data: \n",
    "    d_rotate_a[i] = dict((k,rotate(v)) for k, v in aug_data[i].items())\n",
    "        \n",
    "    \n",
    "d_normalize_rotate_a= {} ## normalized and rotated data set\n",
    "for i in d_normalize:\n",
    "    d_normalize_rotate_a[i] = dict((k,rotate(v)) for k, v in d_normalize_a[i].items())"
   ]
  },
  {
   "cell_type": "code",
   "execution_count": 159,
   "metadata": {},
   "outputs": [
    {
     "name": "stderr",
     "output_type": "stream",
     "text": [
      "20000it [03:17, 101.16it/s]\n",
      "500it [00:04, 100.92it/s]\n",
      "500it [00:04, 100.83it/s]"
     ]
    },
    {
     "name": "stdout",
     "output_type": "stream",
     "text": [
      "Number of trainingset elements: 20000\n",
      "Number of testset elements 500\n",
      "Dimension of feature vector: 6293\n"
     ]
    },
    {
     "name": "stderr",
     "output_type": "stream",
     "text": [
      "\n"
     ]
    }
   ],
   "source": [
    "trainingset = PSFDataset(transform = tr) \n",
    "testset = PSFDataset(transform = tr)\n",
    "valset  = PSFDataset(transform = tr)\n",
    "\n",
    "trainingset.fill_from_iterator(generate_iterator(data, 'train'))\n",
    "testset.fill_from_iterator(generate_iterator(data, 'test'))\n",
    "valset.fill_from_iterator(generate_iterator(data, 'val'))\n",
    "\n",
    "\n",
    "print(\"Number of trainingset elements:\", len(trainingset))\n",
    "print(\"Number of testset elements\", len(testset))\n",
    "print(\"Dimension of feature vector:\", trainingset.get_data_dimension())"
   ]
  },
  {
   "cell_type": "markdown",
   "metadata": {},
   "source": [
    "# Step 3: Training model using trainingset"
   ]
  },
  {
   "cell_type": "code",
   "execution_count": 160,
   "metadata": {},
   "outputs": [],
   "source": [
    "device = torch.device('cpu')"
   ]
  },
  {
   "cell_type": "code",
   "execution_count": 161,
   "metadata": {},
   "outputs": [],
   "source": [
    "# torch.manual_seed(0)\n",
    "# if torch.cuda.is_available():\n",
    "#     torch.cuda.manual_seed_all(0)"
   ]
  },
  {
   "cell_type": "code",
   "execution_count": 162,
   "metadata": {},
   "outputs": [],
   "source": [
    "# device = torch.device(\"cuda:0\" if torch.cuda.is_available() else \"cpu\")\n",
    "# print(\"Device:\", device)"
   ]
  },
  {
   "cell_type": "code",
   "execution_count": 163,
   "metadata": {},
   "outputs": [
    {
     "data": {
      "text/plain": [
       "LinearClassifierNet(\n",
       "  (linear1): Linear(in_features=6293, out_features=2048, bias=True)\n",
       "  (dropout1): Dropout(p=0.5, inplace=False)\n",
       "  (output): Linear(in_features=2048, out_features=10, bias=True)\n",
       ")"
      ]
     },
     "execution_count": 163,
     "metadata": {},
     "output_type": "execute_result"
    }
   ],
   "source": [
    "class LinearClassifierNet(torch.nn.Module):\n",
    "    def __init__(self, input_dim, output_dim):\n",
    "        torch.nn.Module.__init__(self)\n",
    "        self.linear1 = torch.nn.Linear(input_dim, 2048)\n",
    "        self.dropout1 = torch.nn.Dropout(0.5)\n",
    "        self.output = torch.nn.Linear(2048, output_dim)\n",
    "\n",
    "    def forward(self, x):\n",
    "        x = self.linear1(x)\n",
    "        x = self.dropout1(x)\n",
    "        x = self.output(x)\n",
    "        return x\n",
    "\n",
    "model = LinearClassifierNet(input_dim=trainingset.get_data_dimension(),\n",
    "                            output_dim=selected_n_classes) # selected_n_classes = 10 (maximum 500)\n",
    "model.to(device=device, dtype=torch.double)"
   ]
  },
  {
   "cell_type": "code",
   "execution_count": 164,
   "metadata": {},
   "outputs": [],
   "source": [
    "BATCH_SIZE = 8\n",
    "LR = 0.0001\n",
    "EPOCHS = 20"
   ]
  },
  {
   "cell_type": "code",
   "execution_count": 165,
   "metadata": {},
   "outputs": [],
   "source": [
    "loss_fn = torch.nn.CrossEntropyLoss()\n",
    "optimizer = torch.optim.Adam(model.parameters(), lr=LR)"
   ]
  },
  {
   "cell_type": "code",
   "execution_count": 166,
   "metadata": {},
   "outputs": [],
   "source": [
    "training_loader = torch.utils.data.DataLoader(trainingset,\n",
    "                                              batch_size=BATCH_SIZE,\n",
    "                                              shuffle=True,\n",
    "                                              num_workers=2)\n",
    "test_loader = torch.utils.data.DataLoader(testset,\n",
    "                                          batch_size=1,\n",
    "                                          shuffle=False,\n",
    "                                          num_workers=1)"
   ]
  },
  {
   "cell_type": "code",
   "execution_count": 167,
   "metadata": {},
   "outputs": [],
   "source": [
    "def train_network(epoch):\n",
    "    model.train()\n",
    "    cumulated_loss = 0.0\n",
    "    for i, data in tqdm(enumerate(training_loader), desc=\"Epoch \" + str(epoch), leave=False):\n",
    "        inputs, labels = data[0].to(device, dtype = torch.double), data[1].to(device, dtype=torch.long)\n",
    "        optimizer.zero_grad()\n",
    "        outputs = model(inputs)\n",
    "        loss = loss_fn(outputs, labels)\n",
    "        loss.backward()\n",
    "        optimizer.step()\n",
    "        cumulated_loss += loss.item()\n",
    "    return (cumulated_loss / len(training_loader))\n",
    "\n",
    "def test_network():\n",
    "    cumulated_outputs = np.array([])\n",
    "    cumulated_loss = 0.0\n",
    "    model.eval()\n",
    "    with torch.no_grad():\n",
    "        for data in test_loader:\n",
    "            inputs, labels = data[0].to(device, dtype = torch.double), data[1].to(device, dtype=torch.long)\n",
    "            outputs = model(inputs)\n",
    "            loss = loss_fn(outputs, labels)\n",
    "            cumulated_loss += loss.item()\n",
    "\n",
    "            outputs = torch.argmax(torch.softmax(outputs, dim=1), dim=1)\n",
    "            cumulated_outputs = np.concatenate((cumulated_outputs, outputs.cpu().numpy()), axis=None)\n",
    "        test_loss = cumulated_loss / len(test_loader)\n",
    "        return test_loss, cumulated_outputs"
   ]
  },
  {
   "cell_type": "code",
   "execution_count": 168,
   "metadata": {},
   "outputs": [
    {
     "name": "stdout",
     "output_type": "stream",
     "text": [
      "Initial accuracy: 0.1\n"
     ]
    },
    {
     "data": {
      "application/vnd.jupyter.widget-view+json": {
       "model_id": "02ccd31f84574d8c962f28e35270f012",
       "version_major": 2,
       "version_minor": 0
      },
      "text/plain": [
       "HBox(children=(FloatProgress(value=0.0, description='Training', max=20.0, style=ProgressStyle(description_widt…"
      ]
     },
     "metadata": {},
     "output_type": "display_data"
    },
    {
     "data": {
      "application/vnd.jupyter.widget-view+json": {
       "model_id": "41db11aa49c6496abfbbae8bf7fa7a8e",
       "version_major": 2,
       "version_minor": 0
      },
      "text/plain": [
       "HBox(children=(FloatProgress(value=1.0, bar_style='info', description='Epoch 0', max=1.0, style=ProgressStyle(…"
      ]
     },
     "metadata": {},
     "output_type": "display_data"
    },
    {
     "name": "stdout",
     "output_type": "stream",
     "text": [
      "train_loss: 14874818.785832044 \ttest_loss: 7018480.302076387 \tAccuracy: 0.19\n"
     ]
    },
    {
     "data": {
      "application/vnd.jupyter.widget-view+json": {
       "model_id": "7ffc3c70b57c429abd092671d2d6857a",
       "version_major": 2,
       "version_minor": 0
      },
      "text/plain": [
       "HBox(children=(FloatProgress(value=1.0, bar_style='info', description='Epoch 1', max=1.0, style=ProgressStyle(…"
      ]
     },
     "metadata": {},
     "output_type": "display_data"
    },
    {
     "name": "stdout",
     "output_type": "stream",
     "text": [
      "train_loss: 6503160.195823786 \ttest_loss: 3603972.78374279 \tAccuracy: 0.142\n"
     ]
    },
    {
     "data": {
      "application/vnd.jupyter.widget-view+json": {
       "model_id": "0c91140902784bceba8982093bec2f7a",
       "version_major": 2,
       "version_minor": 0
      },
      "text/plain": [
       "HBox(children=(FloatProgress(value=1.0, bar_style='info', description='Epoch 2', max=1.0, style=ProgressStyle(…"
      ]
     },
     "metadata": {},
     "output_type": "display_data"
    },
    {
     "name": "stdout",
     "output_type": "stream",
     "text": [
      "train_loss: 2157665.0787621704 \ttest_loss: 1030228.0192570804 \tAccuracy: 0.204\n"
     ]
    },
    {
     "data": {
      "application/vnd.jupyter.widget-view+json": {
       "model_id": "8bebeab8ad8f4886b863981caaae4145",
       "version_major": 2,
       "version_minor": 0
      },
      "text/plain": [
       "HBox(children=(FloatProgress(value=1.0, bar_style='info', description='Epoch 3', max=1.0, style=ProgressStyle(…"
      ]
     },
     "metadata": {},
     "output_type": "display_data"
    },
    {
     "name": "stdout",
     "output_type": "stream",
     "text": [
      "train_loss: 1185505.2861512739 \ttest_loss: 892242.6704332929 \tAccuracy: 0.228\n"
     ]
    },
    {
     "data": {
      "application/vnd.jupyter.widget-view+json": {
       "model_id": "4c7db6fefc294032a430cc6ee9c07ae9",
       "version_major": 2,
       "version_minor": 0
      },
      "text/plain": [
       "HBox(children=(FloatProgress(value=1.0, bar_style='info', description='Epoch 4', max=1.0, style=ProgressStyle(…"
      ]
     },
     "metadata": {},
     "output_type": "display_data"
    },
    {
     "name": "stdout",
     "output_type": "stream",
     "text": [
      "train_loss: 1501432.1481118703 \ttest_loss: 1379986.1626526648 \tAccuracy: 0.154\n"
     ]
    },
    {
     "data": {
      "application/vnd.jupyter.widget-view+json": {
       "model_id": "b9b8092df35a4f96a035d422c3563628",
       "version_major": 2,
       "version_minor": 0
      },
      "text/plain": [
       "HBox(children=(FloatProgress(value=1.0, bar_style='info', description='Epoch 5', max=1.0, style=ProgressStyle(…"
      ]
     },
     "metadata": {},
     "output_type": "display_data"
    },
    {
     "name": "stdout",
     "output_type": "stream",
     "text": [
      "train_loss: 1503338.2161197648 \ttest_loss: 1317156.521071158 \tAccuracy: 0.16\n"
     ]
    },
    {
     "data": {
      "application/vnd.jupyter.widget-view+json": {
       "model_id": "090e17c88a1f483486a043c73cb90047",
       "version_major": 2,
       "version_minor": 0
      },
      "text/plain": [
       "HBox(children=(FloatProgress(value=1.0, bar_style='info', description='Epoch 6', max=1.0, style=ProgressStyle(…"
      ]
     },
     "metadata": {},
     "output_type": "display_data"
    },
    {
     "name": "stdout",
     "output_type": "stream",
     "text": [
      "train_loss: 1565319.3256542454 \ttest_loss: 1105431.5851328084 \tAccuracy: 0.194\n"
     ]
    },
    {
     "data": {
      "application/vnd.jupyter.widget-view+json": {
       "model_id": "a90fcfcd11794071b38a35fe3b1e61d5",
       "version_major": 2,
       "version_minor": 0
      },
      "text/plain": [
       "HBox(children=(FloatProgress(value=1.0, bar_style='info', description='Epoch 7', max=1.0, style=ProgressStyle(…"
      ]
     },
     "metadata": {},
     "output_type": "display_data"
    },
    {
     "name": "stdout",
     "output_type": "stream",
     "text": [
      "train_loss: 1540189.8193578587 \ttest_loss: 1108991.101333784 \tAccuracy: 0.236\n"
     ]
    },
    {
     "data": {
      "application/vnd.jupyter.widget-view+json": {
       "model_id": "1a05b7e62cfa4748938e2188e4d2bb8d",
       "version_major": 2,
       "version_minor": 0
      },
      "text/plain": [
       "HBox(children=(FloatProgress(value=1.0, bar_style='info', description='Epoch 8', max=1.0, style=ProgressStyle(…"
      ]
     },
     "metadata": {},
     "output_type": "display_data"
    },
    {
     "name": "stdout",
     "output_type": "stream",
     "text": [
      "train_loss: 1588508.6531781468 \ttest_loss: 1002419.2110876124 \tAccuracy: 0.23\n"
     ]
    },
    {
     "data": {
      "application/vnd.jupyter.widget-view+json": {
       "model_id": "175ea3dc7d6a40c8aca5910fa3da932f",
       "version_major": 2,
       "version_minor": 0
      },
      "text/plain": [
       "HBox(children=(FloatProgress(value=1.0, bar_style='info', description='Epoch 9', max=1.0, style=ProgressStyle(…"
      ]
     },
     "metadata": {},
     "output_type": "display_data"
    },
    {
     "name": "stdout",
     "output_type": "stream",
     "text": [
      "train_loss: 1610994.3893200161 \ttest_loss: 1475313.9063133504 \tAccuracy: 0.232\n"
     ]
    },
    {
     "data": {
      "application/vnd.jupyter.widget-view+json": {
       "model_id": "c4e0f9749d9649bdb6ca362dc430c80a",
       "version_major": 2,
       "version_minor": 0
      },
      "text/plain": [
       "HBox(children=(FloatProgress(value=1.0, bar_style='info', description='Epoch 10', max=1.0, style=ProgressStyle…"
      ]
     },
     "metadata": {},
     "output_type": "display_data"
    },
    {
     "name": "stdout",
     "output_type": "stream",
     "text": [
      "train_loss: 1605779.3114071754 \ttest_loss: 1680761.7336126578 \tAccuracy: 0.222\n"
     ]
    },
    {
     "data": {
      "application/vnd.jupyter.widget-view+json": {
       "model_id": "fe683cdf110b42b286d1f5fcbac75366",
       "version_major": 2,
       "version_minor": 0
      },
      "text/plain": [
       "HBox(children=(FloatProgress(value=1.0, bar_style='info', description='Epoch 11', max=1.0, style=ProgressStyle…"
      ]
     },
     "metadata": {},
     "output_type": "display_data"
    },
    {
     "name": "stdout",
     "output_type": "stream",
     "text": [
      "train_loss: 1635449.3479263007 \ttest_loss: 1957229.8365236875 \tAccuracy: 0.168\n"
     ]
    },
    {
     "data": {
      "application/vnd.jupyter.widget-view+json": {
       "model_id": "b92703cc71b04773a810faed2884f57b",
       "version_major": 2,
       "version_minor": 0
      },
      "text/plain": [
       "HBox(children=(FloatProgress(value=1.0, bar_style='info', description='Epoch 12', max=1.0, style=ProgressStyle…"
      ]
     },
     "metadata": {},
     "output_type": "display_data"
    },
    {
     "name": "stdout",
     "output_type": "stream",
     "text": [
      "train_loss: 1662215.0569486294 \ttest_loss: 1099756.233270374 \tAccuracy: 0.302\n"
     ]
    },
    {
     "data": {
      "application/vnd.jupyter.widget-view+json": {
       "model_id": "db5edbe81d8a41dc94bed15a816ccfdc",
       "version_major": 2,
       "version_minor": 0
      },
      "text/plain": [
       "HBox(children=(FloatProgress(value=1.0, bar_style='info', description='Epoch 13', max=1.0, style=ProgressStyle…"
      ]
     },
     "metadata": {},
     "output_type": "display_data"
    },
    {
     "name": "stdout",
     "output_type": "stream",
     "text": [
      "train_loss: 1698424.4093043366 \ttest_loss: 859002.9126604397 \tAccuracy: 0.294\n"
     ]
    },
    {
     "data": {
      "application/vnd.jupyter.widget-view+json": {
       "model_id": "0e6d8c10014f4a3ebcba969a326dc57c",
       "version_major": 2,
       "version_minor": 0
      },
      "text/plain": [
       "HBox(children=(FloatProgress(value=1.0, bar_style='info', description='Epoch 14', max=1.0, style=ProgressStyle…"
      ]
     },
     "metadata": {},
     "output_type": "display_data"
    },
    {
     "name": "stdout",
     "output_type": "stream",
     "text": [
      "train_loss: 1699402.6856480273 \ttest_loss: 1051202.0236029467 \tAccuracy: 0.24\n"
     ]
    },
    {
     "data": {
      "application/vnd.jupyter.widget-view+json": {
       "model_id": "e60b7a957db24964aa3e94262b0d1115",
       "version_major": 2,
       "version_minor": 0
      },
      "text/plain": [
       "HBox(children=(FloatProgress(value=1.0, bar_style='info', description='Epoch 15', max=1.0, style=ProgressStyle…"
      ]
     },
     "metadata": {},
     "output_type": "display_data"
    },
    {
     "name": "stdout",
     "output_type": "stream",
     "text": [
      "train_loss: 1719593.3430666116 \ttest_loss: 1001255.7050318392 \tAccuracy: 0.292\n"
     ]
    },
    {
     "data": {
      "application/vnd.jupyter.widget-view+json": {
       "model_id": "50b8180ee943442482a33a59ab56e658",
       "version_major": 2,
       "version_minor": 0
      },
      "text/plain": [
       "HBox(children=(FloatProgress(value=1.0, bar_style='info', description='Epoch 16', max=1.0, style=ProgressStyle…"
      ]
     },
     "metadata": {},
     "output_type": "display_data"
    },
    {
     "name": "stdout",
     "output_type": "stream",
     "text": [
      "train_loss: 1719509.2726260861 \ttest_loss: 1823819.739144201 \tAccuracy: 0.274\n"
     ]
    },
    {
     "data": {
      "application/vnd.jupyter.widget-view+json": {
       "model_id": "47f2d4dba71d494f8aa102c6da91d432",
       "version_major": 2,
       "version_minor": 0
      },
      "text/plain": [
       "HBox(children=(FloatProgress(value=1.0, bar_style='info', description='Epoch 17', max=1.0, style=ProgressStyle…"
      ]
     },
     "metadata": {},
     "output_type": "display_data"
    },
    {
     "name": "stdout",
     "output_type": "stream",
     "text": [
      "train_loss: 1709153.7570161764 \ttest_loss: 1336236.879360523 \tAccuracy: 0.24\n"
     ]
    },
    {
     "data": {
      "application/vnd.jupyter.widget-view+json": {
       "model_id": "3d3eeb646c814e778c11c0a6f5109205",
       "version_major": 2,
       "version_minor": 0
      },
      "text/plain": [
       "HBox(children=(FloatProgress(value=1.0, bar_style='info', description='Epoch 18', max=1.0, style=ProgressStyle…"
      ]
     },
     "metadata": {},
     "output_type": "display_data"
    },
    {
     "name": "stdout",
     "output_type": "stream",
     "text": [
      "train_loss: 1709206.911611605 \ttest_loss: 1544597.8653420513 \tAccuracy: 0.248\n"
     ]
    },
    {
     "data": {
      "application/vnd.jupyter.widget-view+json": {
       "model_id": "c280519a55684ee28d85b36412174591",
       "version_major": 2,
       "version_minor": 0
      },
      "text/plain": [
       "HBox(children=(FloatProgress(value=1.0, bar_style='info', description='Epoch 19', max=1.0, style=ProgressStyle…"
      ]
     },
     "metadata": {},
     "output_type": "display_data"
    },
    {
     "name": "stdout",
     "output_type": "stream",
     "text": [
      "train_loss: 1723794.5249917763 \ttest_loss: 1499198.583368499 \tAccuracy: 0.29\n",
      "\n"
     ]
    }
   ],
   "source": [
    "# Print initial accuracy before training\n",
    "__, outputs = test_network()\n",
    "acc = accuracy_score(testset.get_labels(), outputs)\n",
    "print(\"Initial accuracy:\", acc)\n",
    "\n",
    "for epoch in trange(EPOCHS, desc=\"Training\"):\n",
    "    train_loss = train_network(epoch)\n",
    "    test_loss, outputs = test_network()\n",
    "    \n",
    "    acc = accuracy_score(testset.get_labels(), outputs)\n",
    "    print(\"train_loss:\", train_loss, \"\\ttest_loss:\", test_loss, \"\\tAccuracy:\", acc)"
   ]
  },
  {
   "cell_type": "markdown",
   "metadata": {},
   "source": [
    "## Showing the confusion matrix"
   ]
  },
  {
   "cell_type": "code",
   "execution_count": 169,
   "metadata": {},
   "outputs": [
    {
     "data": {
      "image/png": "[encoded data removed]",
      "text/plain": [
       "<Figure size 720x720 with 2 Axes>"
      ]
     },
     "metadata": {
      "needs_background": "light"
     },
     "output_type": "display_data"
    }
   ],
   "source": [
    "fig = plt.figure(figsize=(10, 10))\n",
    "cm = confusion_matrix(testset.get_labels(), outputs)\n",
    "ax = fig.add_subplot(111)\n",
    "cm_display = ConfusionMatrixDisplay(cm,\n",
    "                                    display_labels=data.keys()).plot(ax=ax,\n",
    "                                                                       xticks_rotation=\"vertical\")\n"
   ]
  },
  {
   "cell_type": "markdown",
   "metadata": {},
   "source": [
    "# (Not useful for modelling) Some visualization"
   ]
  },
  {
   "cell_type": "code",
   "execution_count": null,
   "metadata": {},
   "outputs": [],
   "source": [
    "def return_landmark_df(landmarks_array):\n",
    "    landmarks_dict = {}\n",
    "    order = 0\n",
    "    for frame in landmarks_array:\n",
    "        landmarks_dict[order] = pd.DataFrame(frame)\n",
    "        order += 1\n",
    "    return landmarks_dict"
   ]
  },
  {
   "cell_type": "code",
   "execution_count": null,
   "metadata": {},
   "outputs": [],
   "source": [
    "landmarks_dict = return_landmark_df(landmarks_array)\n",
    "landmarks_df = pd.concat(landmarks_dict)"
   ]
  },
  {
   "cell_type": "code",
   "execution_count": null,
   "metadata": {
    "scrolled": true
   },
   "outputs": [],
   "source": [
    "ax = landmarks_df.xs(36, level = 1).plot.scatter(1, 0)#, c = landmarks_df.index.get_level_values(0), title = filename)\n",
    "for ind in np.arange(37, 42, 1):\n",
    "    landmarks_df.xs(ind, level = 1).plot.scatter(1, 0, ax = ax)"
   ]
  },
  {
   "cell_type": "code",
   "execution_count": null,
   "metadata": {},
   "outputs": [],
   "source": [
    "def visualize_one_landmark_flow(landmarks_array, filename = '', inOneGraph = True):\n",
    "    for frame in landmarks_array:\n",
    "        plt.scatter(frame[:, 1], frame[:, 0], )\n",
    "        plt.title(filename)\n",
    "        if not inOneGraph:\n",
    "            plt.figure()"
   ]
  },
  {
   "cell_type": "code",
   "execution_count": null,
   "metadata": {},
   "outputs": [],
   "source": [
    "visualize_one_landmark_flow(landmarks_array, filename)"
   ]
  },
  {
   "cell_type": "code",
   "execution_count": null,
   "metadata": {
    "scrolled": true
   },
   "outputs": [],
   "source": [
    "landmarks_array.shape"
   ]
  },
  {
   "cell_type": "code",
   "execution_count": null,
   "metadata": {
    "scrolled": true
   },
   "outputs": [],
   "source": [
    "visualize_one_landmark_flow(landmarks_array, inOneGraph=False)"
   ]
  },
  {
   "cell_type": "markdown",
   "metadata": {},
   "source": [
    "## Using provided animation tool to generate short video"
   ]
  },
  {
   "cell_type": "code",
   "execution_count": null,
   "metadata": {},
   "outputs": [],
   "source": [
    "any_video_path = 'datasets/jhmdb_dataset/videos/golf/Eric_Axley_golf_f_cm_np1_le_goo_0.avi'"
   ]
  },
  {
   "cell_type": "code",
   "execution_count": null,
   "metadata": {},
   "outputs": [],
   "source": [
    "util.display_animation(any_video_path, landmarks_array, include_source_video = False)"
   ]
  },
  {
   "cell_type": "code",
   "execution_count": null,
   "metadata": {
    "scrolled": true
   },
   "outputs": [],
   "source": [
    "plt.scatter(landmarks_array[0][:, 0], -landmarks_array[0][:, 1]) "
   ]
  },
  {
   "cell_type": "code",
   "execution_count": null,
   "metadata": {},
   "outputs": [],
   "source": []
  }
 ],
 "metadata": {
  "kernelspec": {
   "display_name": "Python 3",
   "language": "python",
   "name": "python3"
  },
  "language_info": {
   "codemirror_mode": {
    "name": "ipython",
    "version": 3
   },
   "file_extension": ".py",
   "mimetype": "text/x-python",
   "name": "python",
   "nbconvert_exporter": "python",
   "pygments_lexer": "ipython3",
   "version": "3.8.5"
  }
 },
 "nbformat": 4,
 "nbformat_minor": 4
}
